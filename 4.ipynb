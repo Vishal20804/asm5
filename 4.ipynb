{
 "cells": [
  {
   "cell_type": "code",
   "execution_count": null,
   "id": "98b733db-5f1e-469b-8009-c1701e35752f",
   "metadata": {},
   "outputs": [],
   "source": [
    "Ans:1\n",
    "The PMF is used for discrete random variables, which take on a finite or countable number of distinct values. It assigns probabilities to each possible value of the random variable. The PMF gives the probability that the random variable takes on a specific value.\n",
    "\n",
    "On the other hand, the PDF is used for continuous random variables, which can take on any value within a certain range. The PDF gives the relative likelihood of the random variable falling within a particular interval. Unlike the PMF, which assigns probabilities to specific values, the PDF assigns probabilities to intervals of values."
   ]
  },
  {
   "cell_type": "code",
   "execution_count": null,
   "id": "ca2ac25d-c97f-46c3-8f69-61e1eb9b80e3",
   "metadata": {},
   "outputs": [],
   "source": [
    "Ans:2\n",
    "\n",
    "The Cumulative Distribution Function (CDF) is a mathematical function that gives the probability that a random variable takes on a value less than or equal to a given value. It provides a cumulative view of the probability distribution of a random variable.\n",
    "\n",
    "To understand the CDF, let's consider an example. Suppose we have a continuous random variable Z representing the time it takes for a computer program to execute. The CDF of Z, denoted as F(z), would give the probability that the program execution time is less than or equal to a specific value "
   ]
  },
  {
   "cell_type": "code",
   "execution_count": null,
   "id": "3c34174a-07ee-4439-8bb6-6f7a6bd6c4c9",
   "metadata": {},
   "outputs": [],
   "source": [
    "Ans:3\n",
    "The normal distribution, also known as the Gaussian distribution or bell curve, is a widely used probability distribution in various fields due to its versatility and applicability to a wide range of situations. Here are some examples of situations where the normal distribution might be used as a model:\n",
    "\n",
    "Measurement Errors: In many scientific experiments and measurements, there are often small errors present. These errors can often be approximated as normally distributed around the true value. The normal distribution provides a good model for quantifying and analyzing these errors.\n",
    "\n",
    "IQ Scores: Intelligence quotient (IQ) scores are often assumed to follow a normal distribution. This assumption allows for the comparison of individual scores to the population and helps in understanding the distribution of intelligence levels."
   ]
  },
  {
   "cell_type": "code",
   "execution_count": null,
   "id": "d4a5866d-7939-40dc-bb87-ee751bbcf415",
   "metadata": {},
   "outputs": [],
   "source": [
    "Ans:4\n",
    "Q4: Explain the importance of Normal Distribution. Give a few real-life examples of Normal\n",
    "Distribution.\n",
    "Central Limit Theorem\n",
    "Statistical Inference\n",
    "Data Analysis and Modeling\n",
    "\n",
    "Heights and weights of a population: In a large sample of individuals, the distribution of heights and weights tends to approximate a normal distribution.\n"
   ]
  },
  {
   "cell_type": "code",
   "execution_count": null,
   "id": "62ee1421-77a3-4464-9afe-ceb656f66ed2",
   "metadata": {},
   "outputs": [],
   "source": [
    "Ans:5\n",
    "\n",
    "The Bernoulli distribution is a discrete probability distribution that models a random variable with two possible outcomes: success (usually denoted as 1) or failure (usually denoted as 0). It is named after Swiss mathematician Jacob Bernoulli. The distribution is characterized by a single parameter, p, which represents the probability of success.\n"
   ]
  },
  {
   "cell_type": "code",
   "execution_count": null,
   "id": "a5d8759e-ec58-42ad-80c1-f92b804cb388",
   "metadata": {},
   "outputs": [],
   "source": [
    "Ans:6\n",
    "Z = (60 - 50) / 10\n",
    "Z = 1\n",
    "Looking up the Z-table, we find that the area to the right of Z = 1 is approximately 0.1587."
   ]
  }
 ],
 "metadata": {
  "kernelspec": {
   "display_name": "Python 3 (ipykernel)",
   "language": "python",
   "name": "python3"
  },
  "language_info": {
   "codemirror_mode": {
    "name": "ipython",
    "version": 3
   },
   "file_extension": ".py",
   "mimetype": "text/x-python",
   "name": "python",
   "nbconvert_exporter": "python",
   "pygments_lexer": "ipython3",
   "version": "3.10.8"
  }
 },
 "nbformat": 4,
 "nbformat_minor": 5
}
